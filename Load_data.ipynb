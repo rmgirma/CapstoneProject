{
 "cells": [
  {
   "cell_type": "code",
   "execution_count": 1,
   "metadata": {},
   "outputs": [],
   "source": [
    "from pyspark.sql import SparkSession\n",
    "from pyspark.sql.functions import col, initcap, lower, concat, lit, regexp_replace, coalesce, lpad"
   ]
  },
  {
   "cell_type": "code",
   "execution_count": 2,
   "metadata": {},
   "outputs": [],
   "source": [
    "spark = SparkSession.builder.appName(\"Credit Card System\").getOrCreate()\n",
    "cust_df = spark.read.json(\"C:/PE/CAP350/cdw_sapp_custmer.json\")"
   ]
  },
  {
   "attachments": {},
   "cell_type": "markdown",
   "metadata": {},
   "source": [
    "Below, I used Sparks .withColumn method to modify the column for the customer df."
   ]
  },
  {
   "cell_type": "code",
   "execution_count": 3,
   "metadata": {},
   "outputs": [],
   "source": [
    "# mapping the columns according to specifications\n",
    "cust_df = cust_df.withColumn(\"SSN\", col(\"SSN\").cast(\"integer\"))\\\n",
    "                .withColumn(\"FIRST_NAME\", initcap(col(\"FIRST_NAME\")))\\\n",
    "                .withColumn(\"MIDDLE_NAME\", lower(col(\"MIDDLE_NAME\")))\\\n",
    "                .withColumn(\"LAST_NAME\", initcap(col(\"LAST_NAME\")))\\\n",
    "                .withColumn(\"CREDIT_CARD_NO\", col(\"CREDIT_CARD_NO\"))\\\n",
    "                .withColumn(\"FULL_STREET_ADDRESS\", concat(col(\"STREET_NAME\"), lit(\", \"), col(\"APT_NO\")))\\\n",
    "                .withColumn(\"CUST_CITY\", col(\"CUST_CITY\"))\\\n",
    "                .withColumn(\"CUST_STATE\", col(\"CUST_STATE\"))\\\n",
    "                .withColumn(\"CUST_COUNTRY\", col(\"CUST_COUNTRY\"))\\\n",
    "                .withColumn(\"CUST_ZIP\", col(\"CUST_ZIP\").cast(\"integer\"))\\\n",
    "                .withColumn(\"CUST_PHONE\", col(\"CUST_PHONE\"))\\\n",
    "                .withColumn(\"CUST_EMAIL\", col(\"CUST_EMAIL\"))\\\n",
    "                .withColumn(\"LAST_UPDATED\", col(\"LAST_UPDATED\"))\n",
    "                "
   ]
  },
  {
   "cell_type": "code",
   "execution_count": 4,
   "metadata": {},
   "outputs": [
    {
     "name": "stdout",
     "output_type": "stream",
     "text": [
      "root\n",
      " |-- APT_NO: string (nullable = true)\n",
      " |-- CREDIT_CARD_NO: string (nullable = true)\n",
      " |-- CUST_CITY: string (nullable = true)\n",
      " |-- CUST_COUNTRY: string (nullable = true)\n",
      " |-- CUST_EMAIL: string (nullable = true)\n",
      " |-- CUST_PHONE: string (nullable = true)\n",
      " |-- CUST_STATE: string (nullable = true)\n",
      " |-- CUST_ZIP: integer (nullable = true)\n",
      " |-- FIRST_NAME: string (nullable = true)\n",
      " |-- LAST_NAME: string (nullable = true)\n",
      " |-- LAST_UPDATED: string (nullable = true)\n",
      " |-- MIDDLE_NAME: string (nullable = true)\n",
      " |-- SSN: integer (nullable = true)\n",
      " |-- STREET_NAME: string (nullable = true)\n",
      " |-- FULL_STREET_ADDRESS: string (nullable = true)\n",
      "\n"
     ]
    }
   ],
   "source": [
    "cust_df.printSchema()"
   ]
  },
  {
   "cell_type": "code",
   "execution_count": 5,
   "metadata": {},
   "outputs": [
    {
     "name": "stdout",
     "output_type": "stream",
     "text": [
      "+------+----------------+------------+-------------+----------------------+----------+----------+--------+----------+---------+-----------------------------+-----------+---------+-----------------+----------------------+\n",
      "|APT_NO|CREDIT_CARD_NO  |CUST_CITY   |CUST_COUNTRY |CUST_EMAIL            |CUST_PHONE|CUST_STATE|CUST_ZIP|FIRST_NAME|LAST_NAME|LAST_UPDATED                 |MIDDLE_NAME|SSN      |STREET_NAME      |FULL_STREET_ADDRESS   |\n",
      "+------+----------------+------------+-------------+----------------------+----------+----------+--------+----------+---------+-----------------------------+-----------+---------+-----------------+----------------------+\n",
      "|656   |4210653310061055|Natchez     |United States|AHooper@example.com   |1237818   |MS        |39120   |Alec      |Hooper   |2018-04-21T12:49:02.000-04:00|wm         |123456100|Main Street North|Main Street North, 656|\n",
      "|829   |4210653310102868|Wethersfield|United States|EHolman@example.com   |1238933   |CT        |6109    |Etta      |Holman   |2018-04-21T12:49:02.000-04:00|brendan    |123453023|Redwood Drive    |Redwood Drive, 829    |\n",
      "|683   |4210653310116272|Huntley     |United States|WDunham@example.com   |1243018   |IL        |60142   |Wilber    |Dunham   |2018-04-21T12:49:02.000-04:00|ezequiel   |123454487|12th Street East |12th Street East, 683 |\n",
      "|253   |4210653310195948|NewBerlin   |United States|EHardy@example.com    |1243215   |WI        |53151   |Eugenio   |Hardy    |2018-04-21T12:49:02.000-04:00|trina      |123459758|Country Club Road|Country Club Road, 253|\n",
      "|301   |4210653310356919|ElPaso      |United States|WAyers@example.com    |1242074   |TX        |79930   |Wilfred   |Ayers    |2018-04-21T12:49:02.000-04:00|may        |123454431|Madison Street   |Madison Street, 301   |\n",
      "|3     |4210653310395982|NorthOlmsted|United States|BWoodard@example.com  |1242570   |OH        |44070   |Beau      |Woodard  |2018-04-21T12:49:02.000-04:00|ambrose    |123454202|Colonial Drive   |Colonial Drive, 3     |\n",
      "|84    |4210653310400536|Vienna      |United States|SKemp@example.com     |1239685   |VA        |22180   |Sheila    |Kemp     |2018-04-21T12:49:02.000-04:00|larry      |123451799|Belmont Avenue   |Belmont Avenue, 84    |\n",
      "|728   |4210653310459911|Duarte      |United States|WHurley@example.com   |1238213   |CA        |91010   |Wendy     |Hurley   |2018-04-21T12:49:02.000-04:00|ora        |123453875|Oxford Court     |Oxford Court, 728     |\n",
      "|81    |4210653310773972|Owosso      |United States|AGilmore@example.com  |1240689   |MI        |48867   |Alec      |Gilmore  |2018-04-21T12:49:02.000-04:00|tracie     |123457511|Forest Street    |Forest Street, 81     |\n",
      "|561   |4210653310794854|Zion        |United States|BLau@example.com      |1235222   |IL        |60099   |Barbra    |Lau      |2018-04-21T12:49:02.000-04:00|mitchel    |123457464|Court Street     |Court Street, 561     |\n",
      "|622   |4210653310817373|Youngstown  |United States|EThomson@example.com  |1241363   |OH        |44512   |Edmundo   |Thomson  |2018-04-21T12:49:02.000-04:00|denny      |123457639|Cypress Court    |Cypress Court, 622    |\n",
      "|924   |4210653310844617|Summerville |United States|ETruong@example.com   |1236228   |SC        |29483   |Elsa      |Truong   |2018-04-21T12:49:02.000-04:00|isabelle   |123453242|8th Street West  |8th Street West, 924  |\n",
      "|611   |4210653311015303|ElPaso      |United States|HMckinney@example.com |1238165   |TX        |79930   |Homer     |Mckinney |2018-04-21T12:49:02.000-04:00|henry      |123454339|East Avenue      |East Avenue, 611      |\n",
      "|680   |4210653311215039|Fenton      |United States|RKidd@example.com     |1234730   |MI        |48430   |Rita      |Kidd     |2018-04-21T12:49:02.000-04:00|rickey     |123454537|Route 44         |Route 44, 680         |\n",
      "|71    |4210653311229354|Grandville  |United States|ABallard@example.com  |1242113   |MI        |49418   |Amalia    |Ballard  |2018-04-21T12:49:02.000-04:00|heriberto  |123452373|Warren Street    |Warren Street, 71     |\n",
      "|195   |4210653311652836|YubaCity    |United States|PThomas@example.com   |1239888   |CA        |95993   |Patty     |Thomas   |2018-04-21T12:49:02.000-04:00|angelita   |123455343|Jones Street     |Jones Street, 195     |\n",
      "|500   |4210653311707126|CapeCoral   |United States|JMorrow@example.com   |1240158   |FL        |33904   |Josefina  |Morrow   |2018-04-21T12:49:02.000-04:00|dorothea   |123451533|New Street       |New Street, 500       |\n",
      "|989   |4210653311730764|Brookfield  |United States|NAndrews@example.com  |1241408   |WI        |53045   |Nelson    |Andrews  |2018-04-21T12:49:02.000-04:00|jefferson  |123459278|Division Street  |Division Street, 989  |\n",
      "|810   |4210653311898082|Richmond    |United States|MSchneider@example.com|1238390   |VA        |23223   |Miquel    |Schneider|2018-04-21T12:49:02.000-04:00|maximo     |123456915|Maple Street     |Maple Street, 810     |\n",
      "|649   |4210653312021765|WestChester |United States|PTidwell@example.com  |1235067   |PA        |19380   |Parker    |Tidwell  |2018-04-21T12:49:02.000-04:00|arnulfo    |123453807|Eagle Road       |Eagle Road, 649       |\n",
      "+------+----------------+------------+-------------+----------------------+----------+----------+--------+----------+---------+-----------------------------+-----------+---------+-----------------+----------------------+\n",
      "only showing top 20 rows\n",
      "\n"
     ]
    }
   ],
   "source": [
    "cust_df.show(truncate=False)"
   ]
  },
  {
   "cell_type": "code",
   "execution_count": 6,
   "metadata": {},
   "outputs": [
    {
     "name": "stdout",
     "output_type": "stream",
     "text": [
      "+---------+----------+-----------+---------+----------------+----------------------+------------+----------+-------------+--------+----------+----------------------+-----------------------------+\n",
      "|SSN      |FIRST_NAME|MIDDLE_NAME|LAST_NAME|CREDIT_CARD_NO  |FULL_STREET_ADDRESS   |CUST_CITY   |CUST_STATE|CUST_COUNTRY |CUST_ZIP|CUST_PHONE|CUST_EMAIL            |LAST_UPDATED                 |\n",
      "+---------+----------+-----------+---------+----------------+----------------------+------------+----------+-------------+--------+----------+----------------------+-----------------------------+\n",
      "|123456100|Alec      |wm         |Hooper   |4210653310061055|Main Street North, 656|Natchez     |MS        |United States|39120   |1237818   |AHooper@example.com   |2018-04-21T12:49:02.000-04:00|\n",
      "|123453023|Etta      |brendan    |Holman   |4210653310102868|Redwood Drive, 829    |Wethersfield|CT        |United States|6109    |1238933   |EHolman@example.com   |2018-04-21T12:49:02.000-04:00|\n",
      "|123454487|Wilber    |ezequiel   |Dunham   |4210653310116272|12th Street East, 683 |Huntley     |IL        |United States|60142   |1243018   |WDunham@example.com   |2018-04-21T12:49:02.000-04:00|\n",
      "|123459758|Eugenio   |trina      |Hardy    |4210653310195948|Country Club Road, 253|NewBerlin   |WI        |United States|53151   |1243215   |EHardy@example.com    |2018-04-21T12:49:02.000-04:00|\n",
      "|123454431|Wilfred   |may        |Ayers    |4210653310356919|Madison Street, 301   |ElPaso      |TX        |United States|79930   |1242074   |WAyers@example.com    |2018-04-21T12:49:02.000-04:00|\n",
      "|123454202|Beau      |ambrose    |Woodard  |4210653310395982|Colonial Drive, 3     |NorthOlmsted|OH        |United States|44070   |1242570   |BWoodard@example.com  |2018-04-21T12:49:02.000-04:00|\n",
      "|123451799|Sheila    |larry      |Kemp     |4210653310400536|Belmont Avenue, 84    |Vienna      |VA        |United States|22180   |1239685   |SKemp@example.com     |2018-04-21T12:49:02.000-04:00|\n",
      "|123453875|Wendy     |ora        |Hurley   |4210653310459911|Oxford Court, 728     |Duarte      |CA        |United States|91010   |1238213   |WHurley@example.com   |2018-04-21T12:49:02.000-04:00|\n",
      "|123457511|Alec      |tracie     |Gilmore  |4210653310773972|Forest Street, 81     |Owosso      |MI        |United States|48867   |1240689   |AGilmore@example.com  |2018-04-21T12:49:02.000-04:00|\n",
      "|123457464|Barbra    |mitchel    |Lau      |4210653310794854|Court Street, 561     |Zion        |IL        |United States|60099   |1235222   |BLau@example.com      |2018-04-21T12:49:02.000-04:00|\n",
      "|123457639|Edmundo   |denny      |Thomson  |4210653310817373|Cypress Court, 622    |Youngstown  |OH        |United States|44512   |1241363   |EThomson@example.com  |2018-04-21T12:49:02.000-04:00|\n",
      "|123453242|Elsa      |isabelle   |Truong   |4210653310844617|8th Street West, 924  |Summerville |SC        |United States|29483   |1236228   |ETruong@example.com   |2018-04-21T12:49:02.000-04:00|\n",
      "|123454339|Homer     |henry      |Mckinney |4210653311015303|East Avenue, 611      |ElPaso      |TX        |United States|79930   |1238165   |HMckinney@example.com |2018-04-21T12:49:02.000-04:00|\n",
      "|123454537|Rita      |rickey     |Kidd     |4210653311215039|Route 44, 680         |Fenton      |MI        |United States|48430   |1234730   |RKidd@example.com     |2018-04-21T12:49:02.000-04:00|\n",
      "|123452373|Amalia    |heriberto  |Ballard  |4210653311229354|Warren Street, 71     |Grandville  |MI        |United States|49418   |1242113   |ABallard@example.com  |2018-04-21T12:49:02.000-04:00|\n",
      "|123455343|Patty     |angelita   |Thomas   |4210653311652836|Jones Street, 195     |YubaCity    |CA        |United States|95993   |1239888   |PThomas@example.com   |2018-04-21T12:49:02.000-04:00|\n",
      "|123451533|Josefina  |dorothea   |Morrow   |4210653311707126|New Street, 500       |CapeCoral   |FL        |United States|33904   |1240158   |JMorrow@example.com   |2018-04-21T12:49:02.000-04:00|\n",
      "|123459278|Nelson    |jefferson  |Andrews  |4210653311730764|Division Street, 989  |Brookfield  |WI        |United States|53045   |1241408   |NAndrews@example.com  |2018-04-21T12:49:02.000-04:00|\n",
      "|123456915|Miquel    |maximo     |Schneider|4210653311898082|Maple Street, 810     |Richmond    |VA        |United States|23223   |1238390   |MSchneider@example.com|2018-04-21T12:49:02.000-04:00|\n",
      "|123453807|Parker    |arnulfo    |Tidwell  |4210653312021765|Eagle Road, 649       |WestChester |PA        |United States|19380   |1235067   |PTidwell@example.com  |2018-04-21T12:49:02.000-04:00|\n",
      "+---------+----------+-----------+---------+----------------+----------------------+------------+----------+-------------+--------+----------+----------------------+-----------------------------+\n",
      "only showing top 20 rows\n",
      "\n"
     ]
    }
   ],
   "source": [
    "cust_df.createOrReplaceTempView(\"CDW_SAPP_CUSTOMER\")\n",
    "cust_cleaned = spark.sql(\"SELECT SSN, FIRST_NAME, MIDDLE_NAME, LAST_NAME, CREDIT_CARD_NO, FULL_STREET_ADDRESS,\\\n",
    "                         CUST_CITY, CUST_STATE, CUST_COUNTRY, CUST_ZIP, CUST_PHONE, CUST_EMAIL,\\\n",
    "                         LAST_UPDATED from CDW_SAPP_CUSTOMER\")\n",
    "cust_cleaned.show(truncate=False)"
   ]
  },
  {
   "cell_type": "code",
   "execution_count": 7,
   "metadata": {},
   "outputs": [
    {
     "name": "stdout",
     "output_type": "stream",
     "text": [
      "root\n",
      " |-- SSN: integer (nullable = true)\n",
      " |-- FIRST_NAME: string (nullable = true)\n",
      " |-- MIDDLE_NAME: string (nullable = true)\n",
      " |-- LAST_NAME: string (nullable = true)\n",
      " |-- CREDIT_CARD_NO: string (nullable = true)\n",
      " |-- FULL_STREET_ADDRESS: string (nullable = true)\n",
      " |-- CUST_CITY: string (nullable = true)\n",
      " |-- CUST_STATE: string (nullable = true)\n",
      " |-- CUST_COUNTRY: string (nullable = true)\n",
      " |-- CUST_ZIP: integer (nullable = true)\n",
      " |-- CUST_PHONE: string (nullable = true)\n",
      " |-- CUST_EMAIL: string (nullable = true)\n",
      " |-- LAST_UPDATED: string (nullable = true)\n",
      "\n"
     ]
    }
   ],
   "source": [
    "cust_cleaned.printSchema()"
   ]
  },
  {
   "cell_type": "code",
   "execution_count": 8,
   "metadata": {},
   "outputs": [],
   "source": [
    "# For CDW_SAPP_BRANCH\n",
    "branch_df = spark.read.json(\"C:/PE/CAP350/cdw_sapp_branch.json\")\n",
    "branch_df = branch_df.withColumn(\"BRANCH_ZIP\", coalesce(col(\"BRANCH_ZIP\").cast(\"integer\"), lit(99999)))\\\n",
    "                     .withColumn(\"BRANCH_PHONE\", regexp_replace(col(\"BRANCH_PHONE\"), r\"(^\\d{3})(\\d{3})(\\d{4}$)\", r\"($1)$2-$3\"))\n",
    "\n"
   ]
  },
  {
   "cell_type": "code",
   "execution_count": 9,
   "metadata": {},
   "outputs": [
    {
     "name": "stdout",
     "output_type": "stream",
     "text": [
      "+-----------------+-----------+------------+-------------+------------+-------------------+----------+-----------------------------+\n",
      "|BRANCH_CITY      |BRANCH_CODE|BRANCH_NAME |BRANCH_PHONE |BRANCH_STATE|BRANCH_STREET      |BRANCH_ZIP|LAST_UPDATED                 |\n",
      "+-----------------+-----------+------------+-------------+------------+-------------------+----------+-----------------------------+\n",
      "|Lakeville        |1          |Example Bank|(123)456-5276|MN          |Bridle Court       |55044     |2018-04-18T16:51:47.000-04:00|\n",
      "|Huntley          |2          |Example Bank|(123)461-8993|IL          |Washington Street  |60142     |2018-04-18T16:51:47.000-04:00|\n",
      "|SouthRichmondHill|3          |Example Bank|(123)498-5926|NY          |Warren Street      |11419     |2018-04-18T16:51:47.000-04:00|\n",
      "|Middleburg       |4          |Example Bank|(123)466-3064|FL          |Cleveland Street   |32068     |2018-04-18T16:51:47.000-04:00|\n",
      "|KingOfPrussia    |5          |Example Bank|(123)484-9701|PA          |14th Street        |19406     |2018-04-18T16:51:47.000-04:00|\n",
      "|Paterson         |7          |Example Bank|(123)414-4890|NJ          |Jefferson Street   |7501      |2018-04-18T16:51:47.000-04:00|\n",
      "|Pittsford        |8          |Example Bank|(123)467-8272|NY          |B Street           |14534     |2018-04-18T16:51:47.000-04:00|\n",
      "|Wethersfield     |9          |Example Bank|(123)467-5219|CT          |Jefferson Court    |6109      |2018-04-18T16:51:47.000-04:00|\n",
      "|NorthOlmsted     |10         |Example Bank|(123)414-5047|OH          |Cambridge Road     |44070     |2018-04-18T16:51:47.000-04:00|\n",
      "|Hillsborough     |11         |Example Bank|(123)436-6354|NJ          |3rd Street West    |8844      |2018-04-18T16:51:47.000-04:00|\n",
      "|MadisonHeights   |12         |Example Bank|(123)486-7175|MI          |Mill Road          |48071     |2018-04-18T16:51:47.000-04:00|\n",
      "|Oviedo           |14         |Example Bank|(123)493-8460|FL          |Washington Street  |32765     |2018-04-18T16:51:47.000-04:00|\n",
      "|Mechanicsburg    |15         |Example Bank|(123)446-2043|PA          |Chestnut Street    |17050     |2018-04-18T16:51:47.000-04:00|\n",
      "|Plainview        |16         |Example Bank|(123)485-7525|NY          |Monroe Drive       |11803     |2018-04-18T16:51:47.000-04:00|\n",
      "|Paducah          |17         |Example Bank|(123)454-6360|KY          |Railroad Street    |42001     |2018-04-18T16:51:47.000-04:00|\n",
      "|Harleysville     |18         |Example Bank|(123)482-4455|PA          |Church Street South|19438     |2018-04-18T16:51:47.000-04:00|\n",
      "|SilverSpring     |19         |Example Bank|(123)448-4380|MD          |King Street        |20901     |2018-04-18T16:51:47.000-04:00|\n",
      "|Burnsville       |20         |Example Bank|(123)484-0138|MN          |Canterbury Drive   |55337     |2018-04-18T16:51:47.000-04:00|\n",
      "|Tacoma           |21         |Example Bank|(123)436-2433|WA          |2nd Avenue         |98444     |2018-04-18T16:51:47.000-04:00|\n",
      "|Carlisle         |22         |Example Bank|(123)492-2492|PA          |Front Street South |17013     |2018-04-18T16:51:47.000-04:00|\n",
      "+-----------------+-----------+------------+-------------+------------+-------------------+----------+-----------------------------+\n",
      "only showing top 20 rows\n",
      "\n"
     ]
    }
   ],
   "source": [
    "branch_df.show(truncate=False)"
   ]
  },
  {
   "cell_type": "code",
   "execution_count": 10,
   "metadata": {},
   "outputs": [
    {
     "name": "stdout",
     "output_type": "stream",
     "text": [
      "+-----------+------------+-------------------+-----------------+------------+----------+-------------+-----------------------------+\n",
      "|BRANCH_CODE|BRANCH_NAME |BRANCH_STREET      |BRANCH_CITY      |BRANCH_STATE|BRANCH_ZIP|BRANCH_PHONE |LAST_UPDATED                 |\n",
      "+-----------+------------+-------------------+-----------------+------------+----------+-------------+-----------------------------+\n",
      "|1          |Example Bank|Bridle Court       |Lakeville        |MN          |55044     |(123)456-5276|2018-04-18T16:51:47.000-04:00|\n",
      "|2          |Example Bank|Washington Street  |Huntley          |IL          |60142     |(123)461-8993|2018-04-18T16:51:47.000-04:00|\n",
      "|3          |Example Bank|Warren Street      |SouthRichmondHill|NY          |11419     |(123)498-5926|2018-04-18T16:51:47.000-04:00|\n",
      "|4          |Example Bank|Cleveland Street   |Middleburg       |FL          |32068     |(123)466-3064|2018-04-18T16:51:47.000-04:00|\n",
      "|5          |Example Bank|14th Street        |KingOfPrussia    |PA          |19406     |(123)484-9701|2018-04-18T16:51:47.000-04:00|\n",
      "|7          |Example Bank|Jefferson Street   |Paterson         |NJ          |7501      |(123)414-4890|2018-04-18T16:51:47.000-04:00|\n",
      "|8          |Example Bank|B Street           |Pittsford        |NY          |14534     |(123)467-8272|2018-04-18T16:51:47.000-04:00|\n",
      "|9          |Example Bank|Jefferson Court    |Wethersfield     |CT          |6109      |(123)467-5219|2018-04-18T16:51:47.000-04:00|\n",
      "|10         |Example Bank|Cambridge Road     |NorthOlmsted     |OH          |44070     |(123)414-5047|2018-04-18T16:51:47.000-04:00|\n",
      "|11         |Example Bank|3rd Street West    |Hillsborough     |NJ          |8844      |(123)436-6354|2018-04-18T16:51:47.000-04:00|\n",
      "|12         |Example Bank|Mill Road          |MadisonHeights   |MI          |48071     |(123)486-7175|2018-04-18T16:51:47.000-04:00|\n",
      "|14         |Example Bank|Washington Street  |Oviedo           |FL          |32765     |(123)493-8460|2018-04-18T16:51:47.000-04:00|\n",
      "|15         |Example Bank|Chestnut Street    |Mechanicsburg    |PA          |17050     |(123)446-2043|2018-04-18T16:51:47.000-04:00|\n",
      "|16         |Example Bank|Monroe Drive       |Plainview        |NY          |11803     |(123)485-7525|2018-04-18T16:51:47.000-04:00|\n",
      "|17         |Example Bank|Railroad Street    |Paducah          |KY          |42001     |(123)454-6360|2018-04-18T16:51:47.000-04:00|\n",
      "|18         |Example Bank|Church Street South|Harleysville     |PA          |19438     |(123)482-4455|2018-04-18T16:51:47.000-04:00|\n",
      "|19         |Example Bank|King Street        |SilverSpring     |MD          |20901     |(123)448-4380|2018-04-18T16:51:47.000-04:00|\n",
      "|20         |Example Bank|Canterbury Drive   |Burnsville       |MN          |55337     |(123)484-0138|2018-04-18T16:51:47.000-04:00|\n",
      "|21         |Example Bank|2nd Avenue         |Tacoma           |WA          |98444     |(123)436-2433|2018-04-18T16:51:47.000-04:00|\n",
      "|22         |Example Bank|Front Street South |Carlisle         |PA          |17013     |(123)492-2492|2018-04-18T16:51:47.000-04:00|\n",
      "+-----------+------------+-------------------+-----------------+------------+----------+-------------+-----------------------------+\n",
      "only showing top 20 rows\n",
      "\n"
     ]
    }
   ],
   "source": [
    "branch_df.createOrReplaceTempView(\"CDW_SAPP_BRANCH\")\n",
    "branch_cleaned = spark.sql(\"SELECT BRANCH_CODE, BRANCH_NAME, BRANCH_STREET, BRANCH_CITY, BRANCH_STATE, BRANCH_ZIP,\\\n",
    "                           BRANCH_PHONE, LAST_UPDATED from CDW_SAPP_BRANCH\")\n",
    "branch_cleaned.show(truncate=False)"
   ]
  },
  {
   "cell_type": "code",
   "execution_count": 11,
   "metadata": {},
   "outputs": [
    {
     "name": "stdout",
     "output_type": "stream",
     "text": [
      "root\n",
      " |-- BRANCH_CODE: long (nullable = true)\n",
      " |-- BRANCH_NAME: string (nullable = true)\n",
      " |-- BRANCH_STREET: string (nullable = true)\n",
      " |-- BRANCH_CITY: string (nullable = true)\n",
      " |-- BRANCH_STATE: string (nullable = true)\n",
      " |-- BRANCH_ZIP: integer (nullable = false)\n",
      " |-- BRANCH_PHONE: string (nullable = true)\n",
      " |-- LAST_UPDATED: string (nullable = true)\n",
      "\n"
     ]
    }
   ],
   "source": [
    "branch_cleaned.printSchema()"
   ]
  },
  {
   "attachments": {},
   "cell_type": "markdown",
   "metadata": {},
   "source": [
    "Next, TIMEID is created by concatenating the \"YEAR\", \"MONTH\", and \"DAY\" columns. the month and day columns\n",
    "will be padded with 0 on the left side if less than 2 digits."
   ]
  },
  {
   "cell_type": "code",
   "execution_count": 12,
   "metadata": {},
   "outputs": [],
   "source": [
    "# For CDW_SAPP_CREDITCARD\n",
    "credit_df = spark.read.json(\"C:/PE/CAP350/cdw_sapp_credit.json\")\n",
    "credit_df = credit_df.withColumn(\"TIMEID\", concat(col(\"YEAR\"), lpad(col(\"MONTH\"), 2, \"0\"), lpad(col(\"DAY\"), 2, \"0\"))) "
   ]
  },
  {
   "cell_type": "code",
   "execution_count": 26,
   "metadata": {},
   "outputs": [
    {
     "data": {
      "text/plain": [
       "['BRANCH_CODE',\n",
       " 'CREDIT_CARD_NO',\n",
       " 'CUST_SSN',\n",
       " 'DAY',\n",
       " 'MONTH',\n",
       " 'TRANSACTION_ID',\n",
       " 'TRANSACTION_TYPE',\n",
       " 'TRANSACTION_VALUE',\n",
       " 'YEAR',\n",
       " 'TIMEID']"
      ]
     },
     "execution_count": 26,
     "metadata": {},
     "output_type": "execute_result"
    }
   ],
   "source": [
    "credit_df.columns"
   ]
  },
  {
   "attachments": {},
   "cell_type": "markdown",
   "metadata": {},
   "source": []
  },
  {
   "cell_type": "code",
   "execution_count": 14,
   "metadata": {},
   "outputs": [
    {
     "name": "stdout",
     "output_type": "stream",
     "text": [
      "+-----------+----------------+---------+---+-----+--------------+----------------+-----------------+----+--------+\n",
      "|BRANCH_CODE|CREDIT_CARD_NO  |CUST_SSN |DAY|MONTH|TRANSACTION_ID|TRANSACTION_TYPE|TRANSACTION_VALUE|YEAR|TIMEID  |\n",
      "+-----------+----------------+---------+---+-----+--------------+----------------+-----------------+----+--------+\n",
      "|114        |4210653349028689|123459988|14 |2    |1             |Education       |78.9             |2018|20180214|\n",
      "|35         |4210653349028689|123459988|20 |3    |2             |Entertainment   |14.24            |2018|20180320|\n",
      "|160        |4210653349028689|123459988|8  |7    |3             |Grocery         |56.7             |2018|20180708|\n",
      "|114        |4210653349028689|123459988|19 |4    |4             |Entertainment   |59.73            |2018|20180419|\n",
      "|93         |4210653349028689|123459988|10 |10   |5             |Gas             |3.59             |2018|20181010|\n",
      "|164        |4210653349028689|123459988|28 |5    |6             |Education       |6.89             |2018|20180528|\n",
      "|119        |4210653349028689|123459988|19 |5    |7             |Entertainment   |43.39            |2018|20180519|\n",
      "|23         |4210653349028689|123459988|8  |8    |8             |Gas             |95.39            |2018|20180808|\n",
      "|166        |4210653349028689|123459988|18 |3    |9             |Entertainment   |93.26            |2018|20180318|\n",
      "|83         |4210653349028689|123459988|3  |9    |10            |Bills           |100.38           |2018|20180903|\n",
      "|52         |4210653349028689|123459988|21 |8    |11            |Gas             |98.75            |2018|20180821|\n",
      "|17         |4210653349028689|123459988|24 |12   |12            |Gas             |42.71            |2018|20181224|\n",
      "|80         |4210653349028689|123459988|3  |4    |13            |Grocery         |40.24            |2018|20180403|\n",
      "|50         |4210653349028689|123459988|15 |4    |14            |Bills           |17.81            |2018|20180415|\n",
      "|123        |4210653349028689|123459988|17 |5    |15            |Bills           |29.0             |2018|20180517|\n",
      "|9          |4210653349028689|123459988|6  |7    |16            |Test            |70.63            |2018|20180706|\n",
      "|3          |4210653349028689|123459988|28 |9    |17            |Test            |27.04            |2018|20180928|\n",
      "|135        |4210653349028689|123459988|4  |7    |18            |Entertainment   |88.75            |2018|20180704|\n",
      "|103        |4210653349028689|123459988|24 |4    |19            |Test            |77.02            |2018|20180424|\n",
      "|78         |4210653349028689|123459988|8  |10   |20            |Bills           |34.34            |2018|20181008|\n",
      "+-----------+----------------+---------+---+-----+--------------+----------------+-----------------+----+--------+\n",
      "only showing top 20 rows\n",
      "\n"
     ]
    }
   ],
   "source": [
    "credit_df.createOrReplaceTempView(\"CDW_SAPP_CREDIT_CARD\")\n",
    "credit_cleaned = spark.sql(\"SELECT * from CDW_SAPP_CREDIT_CARD\")\n",
    "credit_cleaned.show(truncate=False)"
   ]
  },
  {
   "cell_type": "code",
   "execution_count": 17,
   "metadata": {},
   "outputs": [
    {
     "name": "stdout",
     "output_type": "stream",
     "text": [
      "root\n",
      " |-- BRANCH_CODE: long (nullable = true)\n",
      " |-- CREDIT_CARD_NO: string (nullable = true)\n",
      " |-- CUST_SSN: long (nullable = true)\n",
      " |-- DAY: long (nullable = true)\n",
      " |-- MONTH: long (nullable = true)\n",
      " |-- TRANSACTION_ID: long (nullable = true)\n",
      " |-- TRANSACTION_TYPE: string (nullable = true)\n",
      " |-- TRANSACTION_VALUE: double (nullable = true)\n",
      " |-- YEAR: long (nullable = true)\n",
      " |-- TIMEID: string (nullable = true)\n",
      "\n"
     ]
    }
   ],
   "source": [
    "credit_cleaned.printSchema()"
   ]
  },
  {
   "cell_type": "code",
   "execution_count": 18,
   "metadata": {},
   "outputs": [
    {
     "name": "stdout",
     "output_type": "stream",
     "text": [
      "+----------------+--------+---------+-----------+----------------+-----------------+--------------+\n",
      "|CUST_CC_NO      |TIMEID  |CUST_SSN |BRANCH_CODE|TRANSACTION_TYPE|TRANSACTION_VALUE|TRANSACTION_ID|\n",
      "+----------------+--------+---------+-----------+----------------+-----------------+--------------+\n",
      "|4210653349028689|20180214|123459988|114        |Education       |78.9             |1             |\n",
      "|4210653349028689|20180320|123459988|35         |Entertainment   |14.24            |2             |\n",
      "|4210653349028689|20180708|123459988|160        |Grocery         |56.7             |3             |\n",
      "|4210653349028689|20180419|123459988|114        |Entertainment   |59.73            |4             |\n",
      "|4210653349028689|20181010|123459988|93         |Gas             |3.59             |5             |\n",
      "|4210653349028689|20180528|123459988|164        |Education       |6.89             |6             |\n",
      "|4210653349028689|20180519|123459988|119        |Entertainment   |43.39            |7             |\n",
      "|4210653349028689|20180808|123459988|23         |Gas             |95.39            |8             |\n",
      "|4210653349028689|20180318|123459988|166        |Entertainment   |93.26            |9             |\n",
      "|4210653349028689|20180903|123459988|83         |Bills           |100.38           |10            |\n",
      "|4210653349028689|20180821|123459988|52         |Gas             |98.75            |11            |\n",
      "|4210653349028689|20181224|123459988|17         |Gas             |42.71            |12            |\n",
      "|4210653349028689|20180403|123459988|80         |Grocery         |40.24            |13            |\n",
      "|4210653349028689|20180415|123459988|50         |Bills           |17.81            |14            |\n",
      "|4210653349028689|20180517|123459988|123        |Bills           |29.0             |15            |\n",
      "|4210653349028689|20180706|123459988|9          |Test            |70.63            |16            |\n",
      "|4210653349028689|20180928|123459988|3          |Test            |27.04            |17            |\n",
      "|4210653349028689|20180704|123459988|135        |Entertainment   |88.75            |18            |\n",
      "|4210653349028689|20180424|123459988|103        |Test            |77.02            |19            |\n",
      "|4210653349028689|20181008|123459988|78         |Bills           |34.34            |20            |\n",
      "+----------------+--------+---------+-----------+----------------+-----------------+--------------+\n",
      "only showing top 20 rows\n",
      "\n"
     ]
    }
   ],
   "source": [
    "credit_df.createOrReplaceTempView(\"CDW_SAPP_CREDIT_CARD\")\n",
    "credit_cleaned = spark.sql(\"SELECT CREDIT_CARD_NO as CUST_CC_NO, TIMEID, CUST_SSN, BRANCH_CODE, TRANSACTION_TYPE,\\\n",
    "    TRANSACTION_VALUE, TRANSACTION_ID from CDW_SAPP_CREDIT_CARD\")\n",
    "credit_cleaned.show(truncate=False)"
   ]
  },
  {
   "cell_type": "code",
   "execution_count": 37,
   "metadata": {},
   "outputs": [],
   "source": [
    "\n",
    "driver = \"com.mysql.jdbc.Driver\"\n",
    "url = \"jdbc:mysql://localhost:3306/creditcard_capstone\"\n",
    "properties = {\n",
    "    \"driver\": driver,\n",
    "    \"user\": \"root\",\n",
    "    \"password\": \"password\"\n",
    "}\n",
    "cust_cleaned.write.jdbc(url=url, table=\"CDW_SAPP_CUSTOMER\", mode=\"overwrite\", properties=properties)\n",
    "branch_cleaned.write.jdbc(url=url, table=\"CDW_SAPP_BRANCH\", mode=\"overwrite\", properties=properties)\n",
    "credit_cleaned.write.jdbc(url=url, table=\"CDW_SAPP_CREDIT_CARD\", mode=\"overwrite\", properties=properties)\n"
   ]
  },
  {
   "cell_type": "code",
   "execution_count": 16,
   "metadata": {},
   "outputs": [
    {
     "name": "stdout",
     "output_type": "stream",
     "text": [
      "+----------------+----------------------+\n",
      "|TRANSACTION_TYPE|sum(TRANSACTION_VALUE)|\n",
      "+----------------+----------------------+\n",
      "|Bills           |351405.2800000001     |\n",
      "+----------------+----------------------+\n",
      "\n"
     ]
    }
   ],
   "source": [
    "credit_df.createOrReplaceTempView(\"CDW_SAPP_CREDIT_CARD\")\n",
    "credit_type = spark.sql(\"SELECT TRANSACTION_TYPE, sum(TRANSACTION_VALUE) from CDW_SAPP_CREDIT_CARD\\\n",
    "                        group by TRANSACTION_TYPE\\\n",
    "                        having TRANSACTION_TYPE='Bills'\")\n",
    "credit_type.show(truncate=False)"
   ]
  },
  {
   "cell_type": "code",
   "execution_count": 15,
   "metadata": {},
   "outputs": [
    {
     "name": "stdout",
     "output_type": "stream",
     "text": [
      "+----------------+\n",
      "|TRANSACTION_TYPE|\n",
      "+----------------+\n",
      "|Education       |\n",
      "|Entertainment   |\n",
      "|Healthcare      |\n",
      "|Grocery         |\n",
      "|Test            |\n",
      "|Gas             |\n",
      "|Bills           |\n",
      "+----------------+\n",
      "\n"
     ]
    }
   ],
   "source": [
    "credit_df.createOrReplaceTempView(\"TransType\")\n",
    "trans_cleaned = spark.sql(\"SELECT DISTINCT TRANSACTION_TYPE from CDW_SAPP_CREDIT_CARD\")\n",
    "trans_cleaned.show(truncate=False)"
   ]
  }
 ],
 "metadata": {
  "kernelspec": {
   "display_name": "Python 3",
   "language": "python",
   "name": "python3"
  },
  "language_info": {
   "codemirror_mode": {
    "name": "ipython",
    "version": 3
   },
   "file_extension": ".py",
   "mimetype": "text/x-python",
   "name": "python",
   "nbconvert_exporter": "python",
   "pygments_lexer": "ipython3",
   "version": "3.10.9"
  },
  "orig_nbformat": 4
 },
 "nbformat": 4,
 "nbformat_minor": 2
}
